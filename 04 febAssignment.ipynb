{
 "cells": [
  {
   "cell_type": "code",
   "execution_count": 1,
   "id": "bc704baa-b321-4c75-ba8c-1298a7f7987f",
   "metadata": {},
   "outputs": [],
   "source": [
    "l=[1,2,3,4,5,6,7,8,9,10]"
   ]
  },
  {
   "cell_type": "code",
   "execution_count": 2,
   "id": "e7a5d28c-8a1f-46f5-bd21-aa9df39104d7",
   "metadata": {},
   "outputs": [
    {
     "data": {
      "text/plain": [
       "[1, 4, 9, 16, 25, 36, 49, 64, 81, 100]"
      ]
     },
     "execution_count": 2,
     "metadata": {},
     "output_type": "execute_result"
    }
   ],
   "source": [
    "list(map(lambda x: x**2 ,l))"
   ]
  },
  {
   "cell_type": "code",
   "execution_count": 3,
   "id": "79985a83-7857-4928-a096-deb261b3092d",
   "metadata": {},
   "outputs": [
    {
     "name": "stdout",
     "output_type": "stream",
     "text": [
      "('1', '2', '3', '4', '5', '6', '7', '8', '9', '10')\n"
     ]
    }
   ],
   "source": [
    "n = [1, 2, 3, 4, 5,6,7,8,9,10]\n",
    "s = tuple(map(lambda x: str(x), n))\n",
    "print(s)\n"
   ]
  },
  {
   "cell_type": "code",
   "execution_count": 30,
   "id": "96b6eaf1-2008-41ae-b5fe-04087632625b",
   "metadata": {},
   "outputs": [],
   "source": [
    "from functools import reduce\n"
   ]
  },
  {
   "cell_type": "code",
   "execution_count": 34,
   "id": "049a302f-d5dd-427f-a0d7-c9f35475fd70",
   "metadata": {},
   "outputs": [],
   "source": [
    "n =list(range(1, 26))\n"
   ]
  },
  {
   "cell_type": "code",
   "execution_count": 35,
   "id": "dddee213-4d7c-434c-8bbd-705fc14a0233",
   "metadata": {},
   "outputs": [
    {
     "data": {
      "text/plain": [
       "15511210043330985984000000"
      ]
     },
     "execution_count": 35,
     "metadata": {},
     "output_type": "execute_result"
    }
   ],
   "source": [
    "reduce(lambda x,y: x*y, n)"
   ]
  },
  {
   "cell_type": "code",
   "execution_count": 2,
   "id": "ac08759c-3bc3-4c8e-9c29-c13e68794643",
   "metadata": {},
   "outputs": [],
   "source": [
    "l1=[2,3,6,9,27,60,90,120,55,46]"
   ]
  },
  {
   "cell_type": "code",
   "execution_count": 3,
   "id": "6fa4f74e-e12e-4615-b180-246bb23ceb56",
   "metadata": {},
   "outputs": [
    {
     "data": {
      "text/plain": [
       "[6, 60, 90, 120]"
      ]
     },
     "execution_count": 3,
     "metadata": {},
     "output_type": "execute_result"
    }
   ],
   "source": [
    "list(filter(lambda x: x%2==0 and x%3==0 ,l1))"
   ]
  },
  {
   "cell_type": "code",
   "execution_count": 7,
   "id": "13a35ec1-a7d6-49c3-a4f0-7ecaafd3beb1",
   "metadata": {},
   "outputs": [
    {
     "data": {
      "text/plain": [
       "['php', 'aba', 'radar', 'level']"
      ]
     },
     "execution_count": 7,
     "metadata": {},
     "output_type": "execute_result"
    }
   ],
   "source": [
    "m = ['python', 'php', 'aba', 'radar', 'level']\n",
    "\n",
    "list(filter(lambda x: x == x[::-1], m))\n",
    "\n",
    "\n"
   ]
  },
  {
   "cell_type": "code",
   "execution_count": null,
   "id": "d37eb0db-ccad-4a3c-89bc-99a4bf3e9aef",
   "metadata": {},
   "outputs": [],
   "source": []
  }
 ],
 "metadata": {
  "kernelspec": {
   "display_name": "Python 3 (ipykernel)",
   "language": "python",
   "name": "python3"
  },
  "language_info": {
   "codemirror_mode": {
    "name": "ipython",
    "version": 3
   },
   "file_extension": ".py",
   "mimetype": "text/x-python",
   "name": "python",
   "nbconvert_exporter": "python",
   "pygments_lexer": "ipython3",
   "version": "3.10.6"
  }
 },
 "nbformat": 4,
 "nbformat_minor": 5
}
